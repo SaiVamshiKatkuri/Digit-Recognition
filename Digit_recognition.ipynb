{
  "nbformat": 4,
  "nbformat_minor": 0,
  "metadata": {
    "colab": {
      "name": "Digit_recognition.ipynb",
      "provenance": [],
      "include_colab_link": true
    },
    "kernelspec": {
      "display_name": "Python 3",
      "language": "python",
      "name": "python3"
    },
    "language_info": {
      "codemirror_mode": {
        "name": "ipython",
        "version": 3
      },
      "file_extension": ".py",
      "mimetype": "text/x-python",
      "name": "python",
      "nbconvert_exporter": "python",
      "pygments_lexer": "ipython3",
      "version": "3.8.3"
    },
    "accelerator": "GPU"
  },
  "cells": [
    {
      "cell_type": "markdown",
      "metadata": {
        "id": "view-in-github",
        "colab_type": "text"
      },
      "source": [
        "<a href=\"https://colab.research.google.com/github/SaiVamshiKatkuri/Digit-Recognition/blob/main/Digit_recognition.ipynb\" target=\"_parent\"><img src=\"https://colab.research.google.com/assets/colab-badge.svg\" alt=\"Open In Colab\"/></a>"
      ]
    },
    {
      "cell_type": "markdown",
      "metadata": {
        "id": "yDawovThP0Dq"
      },
      "source": [
        "**Topic**: `Digits Classification on MNIST dataset`\n",
        "\n",
        "[Link to download the Dataset](https://www.kaggle.com/shrutimechlearn/churn-modelling?select=Churn_Modelling.csv)\n",
        "\n",
        "\n",
        "\n",
        "**AUTHOR**: Sai Vamshi Katkuri\n",
        "[Github Repository](https://github.com/SaiVamshiKatkuri/Digit-Recognition)\n",
        "\n",
        "**Reach out** :[Email](https://mail.google.com/mail/u/0/?tab=rm&ogbl#inbox) | [Linkedin](https://www.linkedin.com/in/katkuri-sai-vamshi-2209281a8/) | [Github](https://github.com/SaiVamshiKatkuri)\n",
        "\n",
        "*Multiclass classification* using `CNN` \n",
        "\n",
        "**Description**: The dataset contains `70000` images of ten different digits.Each digit contains around `7000` images for itself. The goal is to predict the digit based on the image given.\n",
        "\n"
      ]
    },
    {
      "cell_type": "markdown",
      "metadata": {
        "id": "UMHMyMMJQhoM"
      },
      "source": [
        "#### Importing the necessary libraries"
      ]
    },
    {
      "cell_type": "code",
      "metadata": {
        "id": "A6uqMFX-QHFl"
      },
      "source": [
        "import tensorflow as tf\n",
        "import numpy as np\n",
        "import pandas as pd\n",
        "import seaborn as sns\n"
      ],
      "execution_count": 1,
      "outputs": []
    },
    {
      "cell_type": "markdown",
      "metadata": {
        "id": "xmARWwY9QuSA"
      },
      "source": [
        "#### Loading the dataset "
      ]
    },
    {
      "cell_type": "code",
      "metadata": {
        "id": "cRvXoSqVQtg5",
        "outputId": "19de0770-e97a-413a-9d56-c52694ad9d0e",
        "colab": {
          "base_uri": "https://localhost:8080/"
        }
      },
      "source": [
        "(x_train, y_train), (x_test, y_test) = tf.keras.datasets.mnist.load_data()\n",
        "x_train.shape"
      ],
      "execution_count": 2,
      "outputs": [
        {
          "output_type": "execute_result",
          "data": {
            "text/plain": [
              "(60000, 28, 28)"
            ]
          },
          "metadata": {
            "tags": []
          },
          "execution_count": 2
        }
      ]
    },
    {
      "cell_type": "markdown",
      "metadata": {
        "id": "Rp77_xdxQnTS"
      },
      "source": [
        "#### Visualizing the images"
      ]
    },
    {
      "cell_type": "code",
      "metadata": {
        "colab": {
          "base_uri": "https://localhost:8080/",
          "height": 888
        },
        "id": "w62pBB6WT7Op",
        "outputId": "d6fb2a5f-4774-4775-d200-f873b909a41d"
      },
      "source": [
        "import matplotlib.pyplot as plt\n",
        "%matplotlib inline\n",
        "fig, axs = plt.subplots(4, 4, figsize = (15, 15))\n",
        "plt.gray()\n",
        "print(axs.flat)\n",
        "for i, ax in enumerate(axs.flat):\n",
        "    ax.matshow(x_train[i])\n",
        "    ax.axis('off')\n",
        "    ax.set_title('Number {}'.format(y_train[i]))\n",
        "fig.show()\n",
        "\n"
      ],
      "execution_count": 3,
      "outputs": [
        {
          "output_type": "stream",
          "text": [
            "<numpy.flatiter object at 0x562aa7500d00>\n"
          ],
          "name": "stdout"
        },
        {
          "output_type": "display_data",
          "data": {
            "image/png": "[encoded data removed]",
            "text/plain": [
              "<Figure size 1080x1080 with 16 Axes>"
            ]
          },
          "metadata": {
            "tags": [],
            "needs_background": "light"
          }
        }
      ]
    },
    {
      "cell_type": "markdown",
      "metadata": {
        "id": "sOwf-Bau6KdV"
      },
      "source": [
        "#### Reshaping the images to 4th dimension(batch_size)"
      ]
    },
    {
      "cell_type": "code",
      "metadata": {
        "id": "jVbanpv2Qnrt"
      },
      "source": [
        "x_train = x_train.reshape(x_train.shape[0], 28, 28, 1)\n",
        "x_test = x_test.reshape(x_test.shape[0], 28, 28, 1)\n",
        "input_shape = (28, 28, 1)\n"
      ],
      "execution_count": 4,
      "outputs": []
    },
    {
      "cell_type": "markdown",
      "metadata": {
        "id": "O_u3NzYBQ9km"
      },
      "source": [
        "## Normalizing the image pixels"
      ]
    },
    {
      "cell_type": "code",
      "metadata": {
        "colab": {
          "base_uri": "https://localhost:8080/"
        },
        "id": "hi31ZKC214FZ",
        "outputId": "809b3de4-8311-485b-c4c2-fdcba4c2c8fb"
      },
      "source": [
        "x_train = x_train.astype('float32')\n",
        "x_test = x_test.astype('float32')\n",
        "x_train /= 255\n",
        "x_test /= 255\n",
        "print('x_train shape:', x_train.shape)\n",
        "print('Number of images in x_train', x_train.shape[0])\n",
        "print('Number of images in x_test', x_test.shape[0])"
      ],
      "execution_count": 5,
      "outputs": [
        {
          "output_type": "stream",
          "text": [
            "x_train shape: (60000, 28, 28, 1)\n",
            "Number of images in x_train 60000\n",
            "Number of images in x_test 10000\n"
          ],
          "name": "stdout"
        }
      ]
    },
    {
      "cell_type": "markdown",
      "metadata": {
        "id": "p__hwAEuSSPp"
      },
      "source": [
        "##BUILDING THE MODEL \n",
        "### Working\n",
        "\n",
        "<img src=\"https://www.researchgate.net/profile/Chaudhary-Aqdus/publication/334639839/figure/fig4/AS:799323273048073@1567584927323/Convolution-Neural-Network-CNN-working-paradigm-with-input-convolution-pooling-layers.ppm\"  >\n",
        "\n",
        "#### Kernel\n",
        "<img src=\"https://miro.medium.com/max/1010/1*jIv2CLxdXsxvx60Urc11Tw.png\" >\n",
        "\n",
        "#### Max Pooling\n",
        "<img src=\"data:image/png;base64,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\" />\n",
        "\n",
        "#### Categorical cross entropy \n",
        "This is actually a combination of cross entropy loss and softmax loss\n",
        "<img src=\"https://gombru.github.io/assets/cross_entropy_loss/softmax_CE_pipeline.png\" height=\"250px\" width=\"650px\" >\n"
      ]
    },
    {
      "cell_type": "markdown",
      "metadata": {
        "id": "bLYw8BcxRDnR"
      },
      "source": [
        "#### Importing the model"
      ]
    },
    {
      "cell_type": "code",
      "metadata": {
        "id": "8dP9_xD6NwtI"
      },
      "source": [
        "from tensorflow.keras.models import Sequential\n",
        "from tensorflow.keras.layers import Dense, Conv2D, Dropout, Flatten, MaxPooling2D"
      ],
      "execution_count": 6,
      "outputs": []
    },
    {
      "cell_type": "markdown",
      "metadata": {
        "id": "2zzM03fVJTWr"
      },
      "source": [
        "### Code to train the model with different optmisers"
      ]
    },
    {
      "cell_type": "code",
      "metadata": {
        "id": "xGTpAYoZQvh_"
      },
      "source": [
        "## Function starts here\n",
        "def train_Model(optimizer):\n",
        "  model = Sequential()\n",
        "  model.add(Conv2D(28, kernel_size=(3,3), input_shape=input_shape))\n",
        "  model.add(MaxPooling2D(pool_size=(2, 2)))\n",
        "  model.add(Flatten()) \n",
        "  model.add(Dense(128, activation=tf.nn.relu))\n",
        "  model.add(Dropout(0.2))\n",
        "  model.add(Dense(10,activation=tf.nn.softmax))\n",
        "  model.compile(optimizer=optimizer, \n",
        "              loss='sparse_categorical_crossentropy', \n",
        "              metrics=['accuracy'])  \n",
        "  history= model.fit(x=x_train,y=y_train, epochs=10)\n",
        "  return model,history"
      ],
      "execution_count": 7,
      "outputs": []
    },
    {
      "cell_type": "markdown",
      "metadata": {
        "id": "_HnFjwXGIqrJ"
      },
      "source": [
        "### Code to plot accuracy and loss graphs"
      ]
    },
    {
      "cell_type": "code",
      "metadata": {
        "id": "QO3ZVT-OHKD1"
      },
      "source": [
        "# Let's plot graphs using this function\n",
        "def curvePlots(tempString,history):\n",
        "  plt.figure(figsize=(15, 5))\n",
        "  font = {'family': 'serif',\n",
        "        'color':  'cornflowerblue',\n",
        "        'weight': 'normal',\n",
        "        'size': 16,\n",
        "        }\n",
        "  plt.grid(True)\n",
        "  plt.plot(history.history[tempString],c=\"darkred\")\n",
        "  plt.xlabel('NumEpochs',fontdict=font)\n",
        "  plt.ylabel(tempString,fontdict=font)\n",
        "  plt.legend([tempString, tempString])\n",
        "  plt.title(tempString,fontdict=font)\n",
        "  plt.show()"
      ],
      "execution_count": 8,
      "outputs": []
    },
    {
      "cell_type": "markdown",
      "metadata": {
        "id": "6JSrLdSRRQgF"
      },
      "source": [
        "### Training the model using RMSprop optimizer"
      ]
    },
    {
      "cell_type": "code",
      "metadata": {
        "id": "15PMyIwLDqU3",
        "outputId": "dbe5c06d-7ce3-435e-a711-cf3a6690bf11",
        "colab": {
          "base_uri": "https://localhost:8080/"
        }
      },
      "source": [
        "model1,history_RMSprop=train_Model(\"RMSprop\")    ## Calling the function\n",
        "print(model1.summary())                          ## Model summary\n",
        "print(history_RMSprop)"
      ],
      "execution_count": 9,
      "outputs": [
        {
          "output_type": "stream",
          "text": [
            "Epoch 1/10\n",
            "1875/1875 [==============================] - 7s 3ms/step - loss: 0.2134 - accuracy: 0.9356\n",
            "Epoch 2/10\n",
            "1875/1875 [==============================] - 5s 2ms/step - loss: 0.0847 - accuracy: 0.9747\n",
            "Epoch 3/10\n",
            "1875/1875 [==============================] - 5s 2ms/step - loss: 0.0626 - accuracy: 0.9820\n",
            "Epoch 4/10\n",
            "1875/1875 [==============================] - 5s 2ms/step - loss: 0.0511 - accuracy: 0.9851\n",
            "Epoch 5/10\n",
            "1875/1875 [==============================] - 5s 2ms/step - loss: 0.0437 - accuracy: 0.9869\n",
            "Epoch 6/10\n",
            "1875/1875 [==============================] - 5s 2ms/step - loss: 0.0361 - accuracy: 0.9893\n",
            "Epoch 7/10\n",
            "1875/1875 [==============================] - 5s 2ms/step - loss: 0.0330 - accuracy: 0.9899\n",
            "Epoch 8/10\n",
            "1875/1875 [==============================] - 5s 2ms/step - loss: 0.0302 - accuracy: 0.9909\n",
            "Epoch 9/10\n",
            "1875/1875 [==============================] - 5s 2ms/step - loss: 0.0256 - accuracy: 0.9920\n",
            "Epoch 10/10\n",
            "1875/1875 [==============================] - 5s 2ms/step - loss: 0.0249 - accuracy: 0.9922\n",
            "Model: \"sequential\"\n",
            "_________________________________________________________________\n",
            "Layer (type)                 Output Shape              Param #   \n",
            "=================================================================\n",
            "conv2d (Conv2D)              (None, 26, 26, 28)        280       \n",
            "_________________________________________________________________\n",
            "max_pooling2d (MaxPooling2D) (None, 13, 13, 28)        0         \n",
            "_________________________________________________________________\n",
            "flatten (Flatten)            (None, 4732)              0         \n",
            "_________________________________________________________________\n",
            "dense (Dense)                (None, 128)               605824    \n",
            "_________________________________________________________________\n",
            "dropout (Dropout)            (None, 128)               0         \n",
            "_________________________________________________________________\n",
            "dense_1 (Dense)              (None, 10)                1290      \n",
            "=================================================================\n",
            "Total params: 607,394\n",
            "Trainable params: 607,394\n",
            "Non-trainable params: 0\n",
            "_________________________________________________________________\n",
            "None\n",
            "<tensorflow.python.keras.callbacks.History object at 0x7efbee207e50>\n"
          ],
          "name": "stdout"
        }
      ]
    },
    {
      "cell_type": "code",
      "metadata": {
        "colab": {
          "base_uri": "https://localhost:8080/"
        },
        "id": "QwYRSf0vRKWd",
        "outputId": "bb424732-b2c5-4f1a-ac72-1a58190f0dbf"
      },
      "source": [
        " model1.evaluate(x_test, y_test)           ## Evaluation on test sets"
      ],
      "execution_count": 10,
      "outputs": [
        {
          "output_type": "stream",
          "text": [
            "313/313 [==============================] - 1s 2ms/step - loss: 0.0797 - accuracy: 0.9845\n"
          ],
          "name": "stdout"
        },
        {
          "output_type": "execute_result",
          "data": {
            "text/plain": [
              "[0.07972482591867447, 0.984499990940094]"
            ]
          },
          "metadata": {
            "tags": []
          },
          "execution_count": 10
        }
      ]
    },
    {
      "cell_type": "code",
      "metadata": {
        "id": "Acg4Ot86JuTv",
        "outputId": "5cf451ed-340f-445f-a984-b7f6ab705d07",
        "colab": {
          "base_uri": "https://localhost:8080/",
          "height": 703
        }
      },
      "source": [
        "curvePlots(\"accuracy\",history_RMSprop)     ## Calling function to plot graphs\n",
        "curvePlots(\"loss\",history_RMSprop) "
      ],
      "execution_count": 11,
      "outputs": [
        {
          "output_type": "display_data",
          "data": {
            "image/png": "[encoded data removed]",
            "text/plain": [
              "<Figure size 1080x360 with 1 Axes>"
            ]
          },
          "metadata": {
            "tags": [],
            "needs_background": "light"
          }
        },
        {
          "output_type": "display_data",
          "data": {
            "image/png": "[encoded data removed]",
            "text/plain": [
              "<Figure size 1080x360 with 1 Axes>"
            ]
          },
          "metadata": {
            "tags": [],
            "needs_background": "light"
          }
        }
      ]
    },
    {
      "cell_type": "code",
      "metadata": {
        "id": "GwRidot1KjQb",
        "outputId": "a72c7e57-d34b-4f7e-95f4-b898eec8ef19",
        "colab": {
          "base_uri": "https://localhost:8080/"
        }
      },
      "source": [
        "pred=model1.predict(np.expand_dims(x_test[3000],axis=0))     ## Prediction on a single image\n",
        "print(pred.argmax())\n",
        "print(y_test[3000])\n"
      ],
      "execution_count": 12,
      "outputs": [
        {
          "output_type": "stream",
          "text": [
            "6\n",
            "6\n"
          ],
          "name": "stdout"
        }
      ]
    },
    {
      "cell_type": "markdown",
      "metadata": {
        "id": "KNgWjMb3YjMv"
      },
      "source": [
        "*Creating a dataframe to hold predictions*"
      ]
    },
    {
      "cell_type": "code",
      "metadata": {
        "id": "xorpvRufXGqC"
      },
      "source": [
        "sample_df = pd.DataFrame()\n",
        "sample_df[\"True_Values\"]=y_test"
      ],
      "execution_count": 13,
      "outputs": []
    },
    {
      "cell_type": "code",
      "metadata": {
        "id": "eX1K3I1jXHd9"
      },
      "source": [
        "y_pred = model1.predict(x_test)\n",
        "y_result = np.argmax(y_pred, axis=1)  \n",
        "sample_df['RMSprop'] = y_result"
      ],
      "execution_count": 14,
      "outputs": []
    },
    {
      "cell_type": "markdown",
      "metadata": {
        "id": "hC5AgjauJ6h3"
      },
      "source": [
        "**With Adam Optimizer**"
      ]
    },
    {
      "cell_type": "code",
      "metadata": {
        "id": "dKG0FdWjJ6NX",
        "outputId": "748374c6-115e-4b40-a738-8b9adc404caa",
        "colab": {
          "base_uri": "https://localhost:8080/"
        }
      },
      "source": [
        "model2,history_Adam=train_Model(\"adam\")       ## Calling the function\n",
        "print(model2.summary())                       ## Summary of the model\n",
        "print(history_Adam)"
      ],
      "execution_count": 15,
      "outputs": [
        {
          "output_type": "stream",
          "text": [
            "Epoch 1/10\n",
            "1875/1875 [==============================] - 5s 2ms/step - loss: 0.2103 - accuracy: 0.9369\n",
            "Epoch 2/10\n",
            "1875/1875 [==============================] - 4s 2ms/step - loss: 0.0859 - accuracy: 0.9737\n",
            "Epoch 3/10\n",
            "1875/1875 [==============================] - 4s 2ms/step - loss: 0.0594 - accuracy: 0.9815\n",
            "Epoch 4/10\n",
            "1875/1875 [==============================] - 4s 2ms/step - loss: 0.0430 - accuracy: 0.9865\n",
            "Epoch 5/10\n",
            "1875/1875 [==============================] - 4s 2ms/step - loss: 0.0338 - accuracy: 0.9889\n",
            "Epoch 6/10\n",
            "1875/1875 [==============================] - 4s 2ms/step - loss: 0.0294 - accuracy: 0.9901\n",
            "Epoch 7/10\n",
            "1875/1875 [==============================] - 4s 2ms/step - loss: 0.0246 - accuracy: 0.9919\n",
            "Epoch 8/10\n",
            "1875/1875 [==============================] - 4s 2ms/step - loss: 0.0213 - accuracy: 0.9928\n",
            "Epoch 9/10\n",
            "1875/1875 [==============================] - 4s 2ms/step - loss: 0.0187 - accuracy: 0.9936\n",
            "Epoch 10/10\n",
            "1875/1875 [==============================] - 4s 2ms/step - loss: 0.0174 - accuracy: 0.9937\n",
            "Model: \"sequential_1\"\n",
            "_________________________________________________________________\n",
            "Layer (type)                 Output Shape              Param #   \n",
            "=================================================================\n",
            "conv2d_1 (Conv2D)            (None, 26, 26, 28)        280       \n",
            "_________________________________________________________________\n",
            "max_pooling2d_1 (MaxPooling2 (None, 13, 13, 28)        0         \n",
            "_________________________________________________________________\n",
            "flatten_1 (Flatten)          (None, 4732)              0         \n",
            "_________________________________________________________________\n",
            "dense_2 (Dense)              (None, 128)               605824    \n",
            "_________________________________________________________________\n",
            "dropout_1 (Dropout)          (None, 128)               0         \n",
            "_________________________________________________________________\n",
            "dense_3 (Dense)              (None, 10)                1290      \n",
            "=================================================================\n",
            "Total params: 607,394\n",
            "Trainable params: 607,394\n",
            "Non-trainable params: 0\n",
            "_________________________________________________________________\n",
            "None\n",
            "<tensorflow.python.keras.callbacks.History object at 0x7efbde7b3650>\n"
          ],
          "name": "stdout"
        }
      ]
    },
    {
      "cell_type": "code",
      "metadata": {
        "id": "usPjWUVkKH48",
        "outputId": "def16f2e-8e8a-4def-f987-961ed8175585",
        "colab": {
          "base_uri": "https://localhost:8080/"
        }
      },
      "source": [
        " model2.evaluate(x_test, y_test)            ## Evaluating on test sets"
      ],
      "execution_count": 16,
      "outputs": [
        {
          "output_type": "stream",
          "text": [
            "313/313 [==============================] - 1s 2ms/step - loss: 0.0651 - accuracy: 0.9841\n"
          ],
          "name": "stdout"
        },
        {
          "output_type": "execute_result",
          "data": {
            "text/plain": [
              "[0.06513198465108871, 0.9840999841690063]"
            ]
          },
          "metadata": {
            "tags": []
          },
          "execution_count": 16
        }
      ]
    },
    {
      "cell_type": "code",
      "metadata": {
        "id": "2bvEDi7vKPIZ",
        "outputId": "11301d4b-58ed-4a37-8ba1-8737a5c8c5f5",
        "colab": {
          "base_uri": "https://localhost:8080/",
          "height": 703
        }
      },
      "source": [
        "curvePlots(\"accuracy\",history_Adam)          ## Calling functions to plot graphs\n",
        "curvePlots(\"loss\",history_Adam)"
      ],
      "execution_count": 17,
      "outputs": [
        {
          "output_type": "display_data",
          "data": {
            "image/png": "[encoded data removed]",
            "text/plain": [
              "<Figure size 1080x360 with 1 Axes>"
            ]
          },
          "metadata": {
            "tags": [],
            "needs_background": "light"
          }
        },
        {
          "output_type": "display_data",
          "data": {
            "image/png": "[encoded data removed]",
            "text/plain": [
              "<Figure size 1080x360 with 1 Axes>"
            ]
          },
          "metadata": {
            "tags": [],
            "needs_background": "light"
          }
        }
      ]
    },
    {
      "cell_type": "code",
      "metadata": {
        "id": "4NtfR8kYdJkk",
        "colab": {
          "base_uri": "https://localhost:8080/"
        },
        "outputId": "82570055-f480-4a19-b1d9-b1f1da784c5c"
      },
      "source": [
        "pred=model1.predict(np.expand_dims(x_test[3000],axis=0))     ## prediction on a single image\n",
        "print(pred.argmax())\n",
        "print(y_test[3000])\n"
      ],
      "execution_count": 18,
      "outputs": [
        {
          "output_type": "stream",
          "text": [
            "6\n",
            "6\n"
          ],
          "name": "stdout"
        }
      ]
    },
    {
      "cell_type": "markdown",
      "metadata": {
        "id": "z5iiwOOuYTIx"
      },
      "source": [
        "*Predictions of `x_test` using adam*"
      ]
    },
    {
      "cell_type": "code",
      "metadata": {
        "id": "KdoWsbj-TXAN"
      },
      "source": [
        "y_pred_adam = model2.predict(x_test)\n",
        "y_result_adam = np.argmax(y_pred_adam, axis=1)  \n",
        "sample_df['adam'] = y_result_adam\n"
      ],
      "execution_count": 19,
      "outputs": []
    },
    {
      "cell_type": "code",
      "metadata": {
        "id": "fsrOELp1XZ8T",
        "outputId": "bb23b99f-902c-46d2-eb02-abb3b0264c21",
        "colab": {
          "base_uri": "https://localhost:8080/"
        }
      },
      "source": [
        "print(sample_df.shape)"
      ],
      "execution_count": 20,
      "outputs": [
        {
          "output_type": "stream",
          "text": [
            "(10000, 3)\n"
          ],
          "name": "stdout"
        }
      ]
    },
    {
      "cell_type": "markdown",
      "metadata": {
        "id": "WxJrCfUrYN4d"
      },
      "source": [
        "## Saving the predictions to csv file"
      ]
    },
    {
      "cell_type": "code",
      "metadata": {
        "id": "dR7rSUkLXeUa"
      },
      "source": [
        "sample_df.to_csv('submission.csv',index=True)"
      ],
      "execution_count": 21,
      "outputs": []
    },
    {
      "cell_type": "markdown",
      "metadata": {
        "id": "lXHBaiq7Yq9U"
      },
      "source": [
        "**Thank You ❤**"
      ]
    }
  ]
}